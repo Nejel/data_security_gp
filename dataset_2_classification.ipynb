{
 "cells": [
  {
   "cell_type": "markdown",
   "id": "fe26bdba",
   "metadata": {
    "papermill": {
     "duration": 0.01093,
     "end_time": "2024-11-08T14:12:10.667519",
     "exception": false,
     "start_time": "2024-11-08T14:12:10.656589",
     "status": "completed"
    },
    "tags": []
   },
   "source": [
    "# Dataset 2. Classification approach\n",
    "\n",
    "Here we will try to resolve classification task to say is it fraudlent transaction or not"
   ]
  },
  {
   "cell_type": "code",
   "execution_count": 1,
   "id": "858a56f0",
   "metadata": {
    "execution": {
     "iopub.execute_input": "2024-11-08T14:12:08.000968Z",
     "iopub.status.busy": "2024-11-08T14:12:08.000517Z",
     "iopub.status.idle": "2024-11-08T14:12:10.641811Z",
     "shell.execute_reply": "2024-11-08T14:12:10.640491Z"
    },
    "papermill": {
     "duration": 2.657066,
     "end_time": "2024-11-08T14:12:10.645019",
     "exception": false,
     "start_time": "2024-11-08T14:12:07.987953",
     "status": "completed"
    },
    "tags": []
   },
   "outputs": [],
   "source": [
    "import numpy as np\n",
    "import pandas as pd\n",
    "import matplotlib.pyplot as plt\n",
    "import seaborn as sns\n",
    "from sklearn.metrics import confusion_matrix\n",
    "\n",
    "from imblearn.under_sampling import RandomUnderSampler\n",
    "from imblearn.over_sampling import RandomOverSampler\n",
    "\n",
    "from sklearn.model_selection import train_test_split\n"
   ]
  },
  {
   "cell_type": "code",
   "execution_count": 2,
   "id": "517af7fd",
   "metadata": {
    "execution": {
     "iopub.execute_input": "2024-11-08T14:12:10.692882Z",
     "iopub.status.busy": "2024-11-08T14:12:10.691683Z",
     "iopub.status.idle": "2024-11-08T14:12:28.232867Z",
     "shell.execute_reply": "2024-11-08T14:12:28.231544Z"
    },
    "papermill": {
     "duration": 17.55689,
     "end_time": "2024-11-08T14:12:28.235880",
     "exception": false,
     "start_time": "2024-11-08T14:12:10.678990",
     "status": "completed"
    },
    "tags": []
   },
   "outputs": [],
   "source": [
    "# load the dataset\n",
    "df=pd.read_csv(\"../data/IBM/HI-Small_Trans.csv\")"
   ]
  },
  {
   "cell_type": "code",
   "execution_count": 3,
   "id": "5ab31d7c",
   "metadata": {
    "execution": {
     "iopub.execute_input": "2024-11-08T14:12:28.261613Z",
     "iopub.status.busy": "2024-11-08T14:12:28.261156Z",
     "iopub.status.idle": "2024-11-08T14:12:28.290753Z",
     "shell.execute_reply": "2024-11-08T14:12:28.289498Z"
    },
    "papermill": {
     "duration": 0.044806,
     "end_time": "2024-11-08T14:12:28.293243",
     "exception": false,
     "start_time": "2024-11-08T14:12:28.248437",
     "status": "completed"
    },
    "tags": []
   },
   "outputs": [
    {
     "data": {
      "text/html": [
       "<div>\n",
       "<style scoped>\n",
       "    .dataframe tbody tr th:only-of-type {\n",
       "        vertical-align: middle;\n",
       "    }\n",
       "\n",
       "    .dataframe tbody tr th {\n",
       "        vertical-align: top;\n",
       "    }\n",
       "\n",
       "    .dataframe thead th {\n",
       "        text-align: right;\n",
       "    }\n",
       "</style>\n",
       "<table border=\"1\" class=\"dataframe\">\n",
       "  <thead>\n",
       "    <tr style=\"text-align: right;\">\n",
       "      <th></th>\n",
       "      <th>Timestamp</th>\n",
       "      <th>From Bank</th>\n",
       "      <th>Account</th>\n",
       "      <th>To Bank</th>\n",
       "      <th>Account.1</th>\n",
       "      <th>Amount Received</th>\n",
       "      <th>Receiving Currency</th>\n",
       "      <th>Amount Paid</th>\n",
       "      <th>Payment Currency</th>\n",
       "      <th>Payment Format</th>\n",
       "      <th>Is Laundering</th>\n",
       "    </tr>\n",
       "  </thead>\n",
       "  <tbody>\n",
       "    <tr>\n",
       "      <th>0</th>\n",
       "      <td>2022/09/01 00:20</td>\n",
       "      <td>10</td>\n",
       "      <td>8000EBD30</td>\n",
       "      <td>10</td>\n",
       "      <td>8000EBD30</td>\n",
       "      <td>3697.34</td>\n",
       "      <td>US Dollar</td>\n",
       "      <td>3697.34</td>\n",
       "      <td>US Dollar</td>\n",
       "      <td>Reinvestment</td>\n",
       "      <td>0</td>\n",
       "    </tr>\n",
       "    <tr>\n",
       "      <th>1</th>\n",
       "      <td>2022/09/01 00:20</td>\n",
       "      <td>3208</td>\n",
       "      <td>8000F4580</td>\n",
       "      <td>1</td>\n",
       "      <td>8000F5340</td>\n",
       "      <td>0.01</td>\n",
       "      <td>US Dollar</td>\n",
       "      <td>0.01</td>\n",
       "      <td>US Dollar</td>\n",
       "      <td>Cheque</td>\n",
       "      <td>0</td>\n",
       "    </tr>\n",
       "    <tr>\n",
       "      <th>2</th>\n",
       "      <td>2022/09/01 00:00</td>\n",
       "      <td>3209</td>\n",
       "      <td>8000F4670</td>\n",
       "      <td>3209</td>\n",
       "      <td>8000F4670</td>\n",
       "      <td>14675.57</td>\n",
       "      <td>US Dollar</td>\n",
       "      <td>14675.57</td>\n",
       "      <td>US Dollar</td>\n",
       "      <td>Reinvestment</td>\n",
       "      <td>0</td>\n",
       "    </tr>\n",
       "    <tr>\n",
       "      <th>3</th>\n",
       "      <td>2022/09/01 00:02</td>\n",
       "      <td>12</td>\n",
       "      <td>8000F5030</td>\n",
       "      <td>12</td>\n",
       "      <td>8000F5030</td>\n",
       "      <td>2806.97</td>\n",
       "      <td>US Dollar</td>\n",
       "      <td>2806.97</td>\n",
       "      <td>US Dollar</td>\n",
       "      <td>Reinvestment</td>\n",
       "      <td>0</td>\n",
       "    </tr>\n",
       "    <tr>\n",
       "      <th>4</th>\n",
       "      <td>2022/09/01 00:06</td>\n",
       "      <td>10</td>\n",
       "      <td>8000F5200</td>\n",
       "      <td>10</td>\n",
       "      <td>8000F5200</td>\n",
       "      <td>36682.97</td>\n",
       "      <td>US Dollar</td>\n",
       "      <td>36682.97</td>\n",
       "      <td>US Dollar</td>\n",
       "      <td>Reinvestment</td>\n",
       "      <td>0</td>\n",
       "    </tr>\n",
       "  </tbody>\n",
       "</table>\n",
       "</div>"
      ],
      "text/plain": [
       "          Timestamp  From Bank    Account  To Bank  Account.1  \\\n",
       "0  2022/09/01 00:20         10  8000EBD30       10  8000EBD30   \n",
       "1  2022/09/01 00:20       3208  8000F4580        1  8000F5340   \n",
       "2  2022/09/01 00:00       3209  8000F4670     3209  8000F4670   \n",
       "3  2022/09/01 00:02         12  8000F5030       12  8000F5030   \n",
       "4  2022/09/01 00:06         10  8000F5200       10  8000F5200   \n",
       "\n",
       "   Amount Received Receiving Currency  Amount Paid Payment Currency  \\\n",
       "0          3697.34          US Dollar      3697.34        US Dollar   \n",
       "1             0.01          US Dollar         0.01        US Dollar   \n",
       "2         14675.57          US Dollar     14675.57        US Dollar   \n",
       "3          2806.97          US Dollar      2806.97        US Dollar   \n",
       "4         36682.97          US Dollar     36682.97        US Dollar   \n",
       "\n",
       "  Payment Format  Is Laundering  \n",
       "0   Reinvestment              0  \n",
       "1         Cheque              0  \n",
       "2   Reinvestment              0  \n",
       "3   Reinvestment              0  \n",
       "4   Reinvestment              0  "
      ]
     },
     "execution_count": 3,
     "metadata": {},
     "output_type": "execute_result"
    }
   ],
   "source": [
    "df.head()"
   ]
  },
  {
   "cell_type": "code",
   "execution_count": 4,
   "id": "0dd9d2f4",
   "metadata": {
    "execution": {
     "iopub.execute_input": "2024-11-08T14:12:28.319543Z",
     "iopub.status.busy": "2024-11-08T14:12:28.318520Z",
     "iopub.status.idle": "2024-11-08T14:12:28.348638Z",
     "shell.execute_reply": "2024-11-08T14:12:28.347405Z"
    },
    "papermill": {
     "duration": 0.045907,
     "end_time": "2024-11-08T14:12:28.351380",
     "exception": false,
     "start_time": "2024-11-08T14:12:28.305473",
     "status": "completed"
    },
    "tags": []
   },
   "outputs": [
    {
     "name": "stdout",
     "output_type": "stream",
     "text": [
      "<class 'pandas.core.frame.DataFrame'>\n",
      "RangeIndex: 5078345 entries, 0 to 5078344\n",
      "Data columns (total 11 columns):\n",
      " #   Column              Dtype  \n",
      "---  ------              -----  \n",
      " 0   Timestamp           object \n",
      " 1   From Bank           int64  \n",
      " 2   Account             object \n",
      " 3   To Bank             int64  \n",
      " 4   Account.1           object \n",
      " 5   Amount Received     float64\n",
      " 6   Receiving Currency  object \n",
      " 7   Amount Paid         float64\n",
      " 8   Payment Currency    object \n",
      " 9   Payment Format      object \n",
      " 10  Is Laundering       int64  \n",
      "dtypes: float64(2), int64(3), object(6)\n",
      "memory usage: 426.2+ MB\n"
     ]
    }
   ],
   "source": [
    "df.info()"
   ]
  },
  {
   "cell_type": "code",
   "execution_count": 5,
   "id": "c0fb2543",
   "metadata": {
    "execution": {
     "iopub.execute_input": "2024-11-08T14:12:28.402275Z",
     "iopub.status.busy": "2024-11-08T14:12:28.401041Z",
     "iopub.status.idle": "2024-11-08T14:12:37.391682Z",
     "shell.execute_reply": "2024-11-08T14:12:37.390496Z"
    },
    "papermill": {
     "duration": 9.007097,
     "end_time": "2024-11-08T14:12:37.394779",
     "exception": false,
     "start_time": "2024-11-08T14:12:28.387682",
     "status": "completed"
    },
    "tags": []
   },
   "outputs": [],
   "source": [
    "df.drop_duplicates(inplace=True)"
   ]
  },
  {
   "cell_type": "code",
   "execution_count": 6,
   "id": "5de1d6ea",
   "metadata": {
    "execution": {
     "iopub.execute_input": "2024-11-08T14:12:37.420487Z",
     "iopub.status.busy": "2024-11-08T14:12:37.420063Z",
     "iopub.status.idle": "2024-11-08T14:12:37.427704Z",
     "shell.execute_reply": "2024-11-08T14:12:37.426411Z"
    },
    "papermill": {
     "duration": 0.023804,
     "end_time": "2024-11-08T14:12:37.430671",
     "exception": false,
     "start_time": "2024-11-08T14:12:37.406867",
     "status": "completed"
    },
    "tags": []
   },
   "outputs": [
    {
     "data": {
      "text/plain": [
       "(5078336, 11)"
      ]
     },
     "execution_count": 6,
     "metadata": {},
     "output_type": "execute_result"
    }
   ],
   "source": [
    "df.shape"
   ]
  },
  {
   "cell_type": "markdown",
   "id": "7d428bcc",
   "metadata": {
    "papermill": {
     "duration": 0.012584,
     "end_time": "2024-11-08T14:12:37.455472",
     "exception": false,
     "start_time": "2024-11-08T14:12:37.442888",
     "status": "completed"
    },
    "tags": []
   },
   "source": [
    "# Data Distribution"
   ]
  },
  {
   "cell_type": "code",
   "execution_count": 7,
   "id": "81fd6d16",
   "metadata": {
    "execution": {
     "iopub.execute_input": "2024-11-08T14:12:37.481990Z",
     "iopub.status.busy": "2024-11-08T14:12:37.481497Z",
     "iopub.status.idle": "2024-11-08T14:12:37.543060Z",
     "shell.execute_reply": "2024-11-08T14:12:37.541821Z"
    },
    "papermill": {
     "duration": 0.078301,
     "end_time": "2024-11-08T14:12:37.546126",
     "exception": false,
     "start_time": "2024-11-08T14:12:37.467825",
     "status": "completed"
    },
    "tags": []
   },
   "outputs": [
    {
     "data": {
      "text/plain": [
       "Is Laundering\n",
       "0    5073159\n",
       "1       5177\n",
       "Name: count, dtype: int64"
      ]
     },
     "execution_count": 7,
     "metadata": {},
     "output_type": "execute_result"
    }
   ],
   "source": [
    "df[\"Is Laundering\"].value_counts()"
   ]
  },
  {
   "cell_type": "code",
   "execution_count": 8,
   "id": "5f01932f",
   "metadata": {
    "execution": {
     "iopub.execute_input": "2024-11-08T14:12:37.572929Z",
     "iopub.status.busy": "2024-11-08T14:12:37.572445Z",
     "iopub.status.idle": "2024-11-08T14:12:37.634335Z",
     "shell.execute_reply": "2024-11-08T14:12:37.632961Z"
    },
    "papermill": {
     "duration": 0.078419,
     "end_time": "2024-11-08T14:12:37.636940",
     "exception": false,
     "start_time": "2024-11-08T14:12:37.558521",
     "status": "completed"
    },
    "tags": []
   },
   "outputs": [
    {
     "data": {
      "text/plain": [
       "Is Laundering\n",
       "0    99.898057\n",
       "1     0.101943\n",
       "Name: proportion, dtype: float64"
      ]
     },
     "execution_count": 8,
     "metadata": {},
     "output_type": "execute_result"
    }
   ],
   "source": [
    "df[\"Is Laundering\"].value_counts(normalize=True)*100"
   ]
  },
  {
   "cell_type": "code",
   "execution_count": 9,
   "id": "e6ec2754",
   "metadata": {
    "execution": {
     "iopub.execute_input": "2024-11-08T14:12:37.663899Z",
     "iopub.status.busy": "2024-11-08T14:12:37.663444Z",
     "iopub.status.idle": "2024-11-08T14:12:37.996759Z",
     "shell.execute_reply": "2024-11-08T14:12:37.995346Z"
    },
    "papermill": {
     "duration": 0.350027,
     "end_time": "2024-11-08T14:12:37.999582",
     "exception": false,
     "start_time": "2024-11-08T14:12:37.649555",
     "status": "completed"
    },
    "tags": []
   },
   "outputs": [
    {
     "data": {
      "image/png": "[encoded data removed]",
      "text/plain": [
       "<Figure size 640x480 with 2 Axes>"
      ]
     },
     "metadata": {},
     "output_type": "display_data"
    }
   ],
   "source": [
    "target_count=df[\"Is Laundering\"].value_counts()\n",
    "plt.subplot(1,2,1)\n",
    "sns.barplot(x=target_count.index,y=target_count.values)\n",
    "plt.subplot(1,2,2)\n",
    "plt.pie(target_count.values,labels=target_count.index);"
   ]
  },
  {
   "cell_type": "markdown",
   "id": "e77b6f5d",
   "metadata": {
    "papermill": {
     "duration": 0.012168,
     "end_time": "2024-11-08T14:12:38.024480",
     "exception": false,
     "start_time": "2024-11-08T14:12:38.012312",
     "status": "completed"
    },
    "tags": []
   },
   "source": [
    "# Feature preparation"
   ]
  },
  {
   "cell_type": "code",
   "execution_count": 10,
   "id": "2e657774",
   "metadata": {
    "execution": {
     "iopub.execute_input": "2024-11-08T14:12:38.052426Z",
     "iopub.status.busy": "2024-11-08T14:12:38.051965Z",
     "iopub.status.idle": "2024-11-08T14:12:48.039510Z",
     "shell.execute_reply": "2024-11-08T14:12:48.038341Z"
    },
    "papermill": {
     "duration": 10.005099,
     "end_time": "2024-11-08T14:12:48.042783",
     "exception": false,
     "start_time": "2024-11-08T14:12:38.037684",
     "status": "completed"
    },
    "tags": []
   },
   "outputs": [],
   "source": [
    "# Convert the \"Timestamp\" column to datetime format\n",
    "df[\"Timestamp\"] = pd.to_datetime(df[\"Timestamp\"])\n",
    "\n",
    "# Extract Date, Day, and Time from the Timestamp\n",
    "df[\"Date\"] = df[\"Timestamp\"].dt.date\n",
    "df[\"Day\"] = df[\"Timestamp\"].dt.day_name()\n",
    "df[\"Time\"] = df[\"Timestamp\"].dt.time                                              \n",
    "\n",
    "df.drop(columns=[\"Timestamp\"], inplace=True)"
   ]
  },
  {
   "cell_type": "code",
   "execution_count": 11,
   "id": "480d60e5",
   "metadata": {
    "execution": {
     "iopub.execute_input": "2024-11-08T14:12:48.070441Z",
     "iopub.status.busy": "2024-11-08T14:12:48.070036Z",
     "iopub.status.idle": "2024-11-08T14:12:48.089473Z",
     "shell.execute_reply": "2024-11-08T14:12:48.088107Z"
    },
    "papermill": {
     "duration": 0.03673,
     "end_time": "2024-11-08T14:12:48.092547",
     "exception": false,
     "start_time": "2024-11-08T14:12:48.055817",
     "status": "completed"
    },
    "tags": []
   },
   "outputs": [
    {
     "data": {
      "text/html": [
       "<div>\n",
       "<style scoped>\n",
       "    .dataframe tbody tr th:only-of-type {\n",
       "        vertical-align: middle;\n",
       "    }\n",
       "\n",
       "    .dataframe tbody tr th {\n",
       "        vertical-align: top;\n",
       "    }\n",
       "\n",
       "    .dataframe thead th {\n",
       "        text-align: right;\n",
       "    }\n",
       "</style>\n",
       "<table border=\"1\" class=\"dataframe\">\n",
       "  <thead>\n",
       "    <tr style=\"text-align: right;\">\n",
       "      <th></th>\n",
       "      <th>From Bank</th>\n",
       "      <th>Account</th>\n",
       "      <th>To Bank</th>\n",
       "      <th>Account.1</th>\n",
       "      <th>Amount Received</th>\n",
       "      <th>Receiving Currency</th>\n",
       "      <th>Amount Paid</th>\n",
       "      <th>Payment Currency</th>\n",
       "      <th>Payment Format</th>\n",
       "      <th>Is Laundering</th>\n",
       "      <th>Date</th>\n",
       "      <th>Day</th>\n",
       "      <th>Time</th>\n",
       "    </tr>\n",
       "  </thead>\n",
       "  <tbody>\n",
       "    <tr>\n",
       "      <th>0</th>\n",
       "      <td>10</td>\n",
       "      <td>8000EBD30</td>\n",
       "      <td>10</td>\n",
       "      <td>8000EBD30</td>\n",
       "      <td>3697.34</td>\n",
       "      <td>US Dollar</td>\n",
       "      <td>3697.34</td>\n",
       "      <td>US Dollar</td>\n",
       "      <td>Reinvestment</td>\n",
       "      <td>0</td>\n",
       "      <td>2022-09-01</td>\n",
       "      <td>Thursday</td>\n",
       "      <td>00:20:00</td>\n",
       "    </tr>\n",
       "    <tr>\n",
       "      <th>1</th>\n",
       "      <td>3208</td>\n",
       "      <td>8000F4580</td>\n",
       "      <td>1</td>\n",
       "      <td>8000F5340</td>\n",
       "      <td>0.01</td>\n",
       "      <td>US Dollar</td>\n",
       "      <td>0.01</td>\n",
       "      <td>US Dollar</td>\n",
       "      <td>Cheque</td>\n",
       "      <td>0</td>\n",
       "      <td>2022-09-01</td>\n",
       "      <td>Thursday</td>\n",
       "      <td>00:20:00</td>\n",
       "    </tr>\n",
       "  </tbody>\n",
       "</table>\n",
       "</div>"
      ],
      "text/plain": [
       "   From Bank    Account  To Bank  Account.1  Amount Received  \\\n",
       "0         10  8000EBD30       10  8000EBD30          3697.34   \n",
       "1       3208  8000F4580        1  8000F5340             0.01   \n",
       "\n",
       "  Receiving Currency  Amount Paid Payment Currency Payment Format  \\\n",
       "0          US Dollar      3697.34        US Dollar   Reinvestment   \n",
       "1          US Dollar         0.01        US Dollar         Cheque   \n",
       "\n",
       "   Is Laundering        Date       Day      Time  \n",
       "0              0  2022-09-01  Thursday  00:20:00  \n",
       "1              0  2022-09-01  Thursday  00:20:00  "
      ]
     },
     "execution_count": 11,
     "metadata": {},
     "output_type": "execute_result"
    }
   ],
   "source": [
    "df.head(2)"
   ]
  },
  {
   "cell_type": "code",
   "execution_count": 12,
   "id": "03a3539e",
   "metadata": {
    "execution": {
     "iopub.execute_input": "2024-11-08T14:12:48.145171Z",
     "iopub.status.busy": "2024-11-08T14:12:48.144742Z",
     "iopub.status.idle": "2024-11-08T14:12:48.769519Z",
     "shell.execute_reply": "2024-11-08T14:12:48.768253Z"
    },
    "papermill": {
     "duration": 0.642189,
     "end_time": "2024-11-08T14:12:48.772622",
     "exception": false,
     "start_time": "2024-11-08T14:12:48.130433",
     "status": "completed"
    },
    "tags": []
   },
   "outputs": [],
   "source": [
    "# Define the X and Y\n",
    " \n",
    "X = df.drop(['Is Laundering'],axis = 1)\n",
    "y = df['Is Laundering']"
   ]
  },
  {
   "cell_type": "markdown",
   "id": "e01f2c2a",
   "metadata": {
    "papermill": {
     "duration": 0.013218,
     "end_time": "2024-11-08T14:12:48.799196",
     "exception": false,
     "start_time": "2024-11-08T14:12:48.785978",
     "status": "completed"
    },
    "tags": []
   },
   "source": [
    "# Oversampling for dealing with small fraudlent-class"
   ]
  },
  {
   "cell_type": "code",
   "execution_count": 13,
   "id": "5c1de14c",
   "metadata": {
    "execution": {
     "iopub.execute_input": "2024-11-08T14:12:49.540571Z",
     "iopub.status.busy": "2024-11-08T14:12:49.539483Z",
     "iopub.status.idle": "2024-11-08T14:12:51.356619Z",
     "shell.execute_reply": "2024-11-08T14:12:51.355475Z"
    },
    "papermill": {
     "duration": 1.834668,
     "end_time": "2024-11-08T14:12:51.359866",
     "exception": false,
     "start_time": "2024-11-08T14:12:49.525198",
     "status": "completed"
    },
    "tags": []
   },
   "outputs": [
    {
     "data": {
      "text/plain": [
       "(7609738, 7609738)"
      ]
     },
     "execution_count": 13,
     "metadata": {},
     "output_type": "execute_result"
    }
   ],
   "source": [
    "X = df.drop(['Is Laundering'],axis = 1)\n",
    "y = df['Is Laundering']\n",
    "\n",
    "oversampler = RandomOverSampler(sampling_strategy=0.5) # Increase the minority class to 50% of the majority class\n",
    "X, y = oversampler.fit_resample(X, y)\n",
    "\n",
    "len(X),len(y)"
   ]
  },
  {
   "cell_type": "code",
   "execution_count": 14,
   "id": "8f37a45f",
   "metadata": {
    "execution": {
     "iopub.execute_input": "2024-11-08T14:12:48.827505Z",
     "iopub.status.busy": "2024-11-08T14:12:48.827088Z",
     "iopub.status.idle": "2024-11-08T14:12:49.508505Z",
     "shell.execute_reply": "2024-11-08T14:12:49.507359Z"
    },
    "papermill": {
     "duration": 0.699241,
     "end_time": "2024-11-08T14:12:49.511618",
     "exception": false,
     "start_time": "2024-11-08T14:12:48.812377",
     "status": "completed"
    },
    "tags": []
   },
   "outputs": [],
   "source": [
    "# # Undersampling is possible too but less effective according to our tests\n",
    "# # Define the undersampler\n",
    "\n",
    "# undersampler = RandomUnderSampler()\n",
    "# X, y = undersampler.fit_resample(X,y)\n",
    "# len(X),len(y)"
   ]
  },
  {
   "cell_type": "markdown",
   "id": "16c7046c",
   "metadata": {
    "papermill": {
     "duration": 0.012492,
     "end_time": "2024-11-08T14:12:51.385592",
     "exception": false,
     "start_time": "2024-11-08T14:12:51.373100",
     "status": "completed"
    },
    "tags": []
   },
   "source": [
    "# Visualizing The balanced Dataset"
   ]
  },
  {
   "cell_type": "code",
   "execution_count": 15,
   "id": "aee45cd7",
   "metadata": {
    "execution": {
     "iopub.execute_input": "2024-11-08T14:12:51.413169Z",
     "iopub.status.busy": "2024-11-08T14:12:51.412756Z",
     "iopub.status.idle": "2024-11-08T14:12:51.629630Z",
     "shell.execute_reply": "2024-11-08T14:12:51.628445Z"
    },
    "papermill": {
     "duration": 0.233733,
     "end_time": "2024-11-08T14:12:51.632169",
     "exception": false,
     "start_time": "2024-11-08T14:12:51.398436",
     "status": "completed"
    },
    "tags": []
   },
   "outputs": [
    {
     "data": {
      "text/plain": [
       "<Axes: xlabel='Is Laundering'>"
      ]
     },
     "execution_count": 15,
     "metadata": {},
     "output_type": "execute_result"
    },
    {
     "data": {
      "image/png": "[encoded data removed]",
      "text/plain": [
       "<Figure size 500x300 with 1 Axes>"
      ]
     },
     "metadata": {},
     "output_type": "display_data"
    }
   ],
   "source": [
    "new_distribution=y.value_counts()\n",
    "plt.figure(figsize=(5,3))\n",
    "sns.barplot(x=new_distribution.index,y=new_distribution.values)"
   ]
  },
  {
   "cell_type": "markdown",
   "id": "127281db",
   "metadata": {
    "papermill": {
     "duration": 0.012628,
     "end_time": "2024-11-08T14:12:51.657945",
     "exception": false,
     "start_time": "2024-11-08T14:12:51.645317",
     "status": "completed"
    },
    "tags": []
   },
   "source": [
    "# Train and test split "
   ]
  },
  {
   "cell_type": "code",
   "execution_count": 16,
   "id": "5eaccf0b",
   "metadata": {
    "execution": {
     "iopub.execute_input": "2024-11-08T14:12:51.687174Z",
     "iopub.status.busy": "2024-11-08T14:12:51.686756Z",
     "iopub.status.idle": "2024-11-08T14:12:51.703157Z",
     "shell.execute_reply": "2024-11-08T14:12:51.701908Z"
    },
    "papermill": {
     "duration": 0.03347,
     "end_time": "2024-11-08T14:12:51.705999",
     "exception": false,
     "start_time": "2024-11-08T14:12:51.672529",
     "status": "completed"
    },
    "tags": []
   },
   "outputs": [],
   "source": [
    "\n",
    "X_train,X_test,y_train,y_test = train_test_split(X, y, test_size = 0.3, random_state = 42)"
   ]
  },
  {
   "cell_type": "code",
   "execution_count": 17,
   "id": "44a9fb96",
   "metadata": {},
   "outputs": [
    {
     "data": {
      "text/plain": [
       "Is Laundering\n",
       "0    3551670\n",
       "1    1775146\n",
       "Name: count, dtype: int64"
      ]
     },
     "execution_count": 17,
     "metadata": {},
     "output_type": "execute_result"
    }
   ],
   "source": [
    "y_train.value_counts()"
   ]
  },
  {
   "cell_type": "code",
   "execution_count": 18,
   "id": "576de991",
   "metadata": {},
   "outputs": [
    {
     "data": {
      "text/plain": [
       "Is Laundering\n",
       "0    1521489\n",
       "1     761433\n",
       "Name: count, dtype: int64"
      ]
     },
     "execution_count": 18,
     "metadata": {},
     "output_type": "execute_result"
    }
   ],
   "source": [
    "y_test.value_counts()"
   ]
  },
  {
   "cell_type": "markdown",
   "id": "38dbd265",
   "metadata": {
    "papermill": {
     "duration": 0.0127,
     "end_time": "2024-11-08T14:12:51.731997",
     "exception": false,
     "start_time": "2024-11-08T14:12:51.719297",
     "status": "completed"
    },
    "tags": []
   },
   "source": [
    "# One hot encoding inside a pipeline together with model"
   ]
  },
  {
   "cell_type": "code",
   "execution_count": 19,
   "id": "10abcbb6",
   "metadata": {
    "_cell_guid": "b1076dfc-b9ad-4769-8c92-a6c4dae69d19",
    "_uuid": "8f2839f25d086af736a60e9eeb907d3b93b6e0e5",
    "execution": {
     "iopub.execute_input": "2024-11-08T14:12:51.760373Z",
     "iopub.status.busy": "2024-11-08T14:12:51.759284Z",
     "iopub.status.idle": "2024-11-08T14:12:51.765125Z",
     "shell.execute_reply": "2024-11-08T14:12:51.763914Z"
    },
    "papermill": {
     "duration": 0.022853,
     "end_time": "2024-11-08T14:12:51.767910",
     "exception": false,
     "start_time": "2024-11-08T14:12:51.745057",
     "status": "completed"
    },
    "tags": []
   },
   "outputs": [],
   "source": [
    "categorical = ['From Bank','Account','To Bank','Receiving Currency','Payment Currency','Payment Format','Day']"
   ]
  },
  {
   "cell_type": "code",
   "execution_count": 20,
   "id": "d875f8bd",
   "metadata": {
    "execution": {
     "iopub.execute_input": "2024-11-08T14:12:51.796875Z",
     "iopub.status.busy": "2024-11-08T14:12:51.796419Z",
     "iopub.status.idle": "2024-11-08T14:12:51.802543Z",
     "shell.execute_reply": "2024-11-08T14:12:51.801367Z"
    },
    "papermill": {
     "duration": 0.023605,
     "end_time": "2024-11-08T14:12:51.805190",
     "exception": false,
     "start_time": "2024-11-08T14:12:51.781585",
     "status": "completed"
    },
    "tags": []
   },
   "outputs": [],
   "source": [
    "from sklearn.pipeline import Pipeline\n",
    "from sklearn.preprocessing import OneHotEncoder\n",
    "ohe = Pipeline([('Encoder',OneHotEncoder(drop = 'first',handle_unknown='ignore'))])"
   ]
  },
  {
   "cell_type": "code",
   "execution_count": 21,
   "id": "f31ae720",
   "metadata": {
    "execution": {
     "iopub.execute_input": "2024-11-08T14:12:51.834427Z",
     "iopub.status.busy": "2024-11-08T14:12:51.833920Z",
     "iopub.status.idle": "2024-11-08T14:12:51.844942Z",
     "shell.execute_reply": "2024-11-08T14:12:51.843815Z"
    },
    "papermill": {
     "duration": 0.0288,
     "end_time": "2024-11-08T14:12:51.847673",
     "exception": false,
     "start_time": "2024-11-08T14:12:51.818873",
     "status": "completed"
    },
    "tags": []
   },
   "outputs": [],
   "source": [
    "from sklearn.compose import ColumnTransformer\n",
    "transformer = ColumnTransformer([('One Hot Encoding',ohe,categorical)])"
   ]
  },
  {
   "cell_type": "code",
   "execution_count": 22,
   "id": "32a55fa9",
   "metadata": {
    "execution": {
     "iopub.execute_input": "2024-11-08T14:12:51.876762Z",
     "iopub.status.busy": "2024-11-08T14:12:51.876198Z",
     "iopub.status.idle": "2024-11-08T14:12:52.071228Z",
     "shell.execute_reply": "2024-11-08T14:12:52.069955Z"
    },
    "papermill": {
     "duration": 0.212998,
     "end_time": "2024-11-08T14:12:52.074241",
     "exception": false,
     "start_time": "2024-11-08T14:12:51.861243",
     "status": "completed"
    },
    "tags": []
   },
   "outputs": [],
   "source": [
    "from xgboost import XGBClassifier\n",
    "# Define the full pipeline without the undersampler\n",
    "model = Pipeline([\n",
    "    ('Transformer', transformer),           # Preprocess the data\n",
    "    ('Estimator', XGBClassifier())          # Train the model with XGBoost\n",
    "])"
   ]
  },
  {
   "cell_type": "code",
   "execution_count": 23,
   "id": "8bb0ef58",
   "metadata": {},
   "outputs": [
    {
     "data": {
      "text/plain": [
       "sklearn.compose._column_transformer.ColumnTransformer"
      ]
     },
     "execution_count": 23,
     "metadata": {},
     "output_type": "execute_result"
    }
   ],
   "source": [
    "type(model[0])"
   ]
  },
  {
   "cell_type": "code",
   "execution_count": null,
   "id": "9538fef4",
   "metadata": {},
   "outputs": [],
   "source": []
  },
  {
   "cell_type": "markdown",
   "id": "b1975189",
   "metadata": {
    "papermill": {
     "duration": 0.012763,
     "end_time": "2024-11-08T14:12:52.100594",
     "exception": false,
     "start_time": "2024-11-08T14:12:52.087831",
     "status": "completed"
    },
    "tags": []
   },
   "source": [
    "# Fitting the model"
   ]
  },
  {
   "cell_type": "code",
   "execution_count": 24,
   "id": "1cbc3b89",
   "metadata": {
    "execution": {
     "iopub.execute_input": "2024-11-08T14:12:52.128649Z",
     "iopub.status.busy": "2024-11-08T14:12:52.128254Z",
     "iopub.status.idle": "2024-11-08T14:12:52.931814Z",
     "shell.execute_reply": "2024-11-08T14:12:52.930467Z"
    },
    "papermill": {
     "duration": 0.820743,
     "end_time": "2024-11-08T14:12:52.934633",
     "exception": false,
     "start_time": "2024-11-08T14:12:52.113890",
     "status": "completed"
    },
    "tags": []
   },
   "outputs": [
    {
     "data": {
      "text/html": [
       "<style>#sk-container-id-1 {color: black;background-color: white;}#sk-container-id-1 pre{padding: 0;}#sk-container-id-1 div.sk-toggleable {background-color: white;}#sk-container-id-1 label.sk-toggleable__label {cursor: pointer;display: block;width: 100%;margin-bottom: 0;padding: 0.3em;box-sizing: border-box;text-align: center;}#sk-container-id-1 label.sk-toggleable__label-arrow:before {content: \"▸\";float: left;margin-right: 0.25em;color: #696969;}#sk-container-id-1 label.sk-toggleable__label-arrow:hover:before {color: black;}#sk-container-id-1 div.sk-estimator:hover label.sk-toggleable__label-arrow:before {color: black;}#sk-container-id-1 div.sk-toggleable__content {max-height: 0;max-width: 0;overflow: hidden;text-align: left;background-color: #f0f8ff;}#sk-container-id-1 div.sk-toggleable__content pre {margin: 0.2em;color: black;border-radius: 0.25em;background-color: #f0f8ff;}#sk-container-id-1 input.sk-toggleable__control:checked~div.sk-toggleable__content {max-height: 200px;max-width: 100%;overflow: auto;}#sk-container-id-1 input.sk-toggleable__control:checked~label.sk-toggleable__label-arrow:before {content: \"▾\";}#sk-container-id-1 div.sk-estimator input.sk-toggleable__control:checked~label.sk-toggleable__label {background-color: #d4ebff;}#sk-container-id-1 div.sk-label input.sk-toggleable__control:checked~label.sk-toggleable__label {background-color: #d4ebff;}#sk-container-id-1 input.sk-hidden--visually {border: 0;clip: rect(1px 1px 1px 1px);clip: rect(1px, 1px, 1px, 1px);height: 1px;margin: -1px;overflow: hidden;padding: 0;position: absolute;width: 1px;}#sk-container-id-1 div.sk-estimator {font-family: monospace;background-color: #f0f8ff;border: 1px dotted black;border-radius: 0.25em;box-sizing: border-box;margin-bottom: 0.5em;}#sk-container-id-1 div.sk-estimator:hover {background-color: #d4ebff;}#sk-container-id-1 div.sk-parallel-item::after {content: \"\";width: 100%;border-bottom: 1px solid gray;flex-grow: 1;}#sk-container-id-1 div.sk-label:hover label.sk-toggleable__label {background-color: #d4ebff;}#sk-container-id-1 div.sk-serial::before {content: \"\";position: absolute;border-left: 1px solid gray;box-sizing: border-box;top: 0;bottom: 0;left: 50%;z-index: 0;}#sk-container-id-1 div.sk-serial {display: flex;flex-direction: column;align-items: center;background-color: white;padding-right: 0.2em;padding-left: 0.2em;position: relative;}#sk-container-id-1 div.sk-item {position: relative;z-index: 1;}#sk-container-id-1 div.sk-parallel {display: flex;align-items: stretch;justify-content: center;background-color: white;position: relative;}#sk-container-id-1 div.sk-item::before, #sk-container-id-1 div.sk-parallel-item::before {content: \"\";position: absolute;border-left: 1px solid gray;box-sizing: border-box;top: 0;bottom: 0;left: 50%;z-index: -1;}#sk-container-id-1 div.sk-parallel-item {display: flex;flex-direction: column;z-index: 1;position: relative;background-color: white;}#sk-container-id-1 div.sk-parallel-item:first-child::after {align-self: flex-end;width: 50%;}#sk-container-id-1 div.sk-parallel-item:last-child::after {align-self: flex-start;width: 50%;}#sk-container-id-1 div.sk-parallel-item:only-child::after {width: 0;}#sk-container-id-1 div.sk-dashed-wrapped {border: 1px dashed gray;margin: 0 0.4em 0.5em 0.4em;box-sizing: border-box;padding-bottom: 0.4em;background-color: white;}#sk-container-id-1 div.sk-label label {font-family: monospace;font-weight: bold;display: inline-block;line-height: 1.2em;}#sk-container-id-1 div.sk-label-container {text-align: center;}#sk-container-id-1 div.sk-container {/* jupyter's `normalize.less` sets `[hidden] { display: none; }` but bootstrap.min.css set `[hidden] { display: none !important; }` so we also need the `!important` here to be able to override the default hidden behavior on the sphinx rendered scikit-learn.org. See: https://github.com/scikit-learn/scikit-learn/issues/21755 */display: inline-block !important;position: relative;}#sk-container-id-1 div.sk-text-repr-fallback {display: none;}</style><div id=\"sk-container-id-1\" class=\"sk-top-container\"><div class=\"sk-text-repr-fallback\"><pre>Pipeline(steps=[(&#x27;Transformer&#x27;,\n",
       "                 ColumnTransformer(transformers=[(&#x27;One Hot Encoding&#x27;,\n",
       "                                                  Pipeline(steps=[(&#x27;Encoder&#x27;,\n",
       "                                                                   OneHotEncoder(drop=&#x27;first&#x27;,\n",
       "                                                                                 handle_unknown=&#x27;ignore&#x27;))]),\n",
       "                                                  [&#x27;From Bank&#x27;, &#x27;Account&#x27;,\n",
       "                                                   &#x27;To Bank&#x27;,\n",
       "                                                   &#x27;Receiving Currency&#x27;,\n",
       "                                                   &#x27;Payment Currency&#x27;,\n",
       "                                                   &#x27;Payment Format&#x27;,\n",
       "                                                   &#x27;Day&#x27;])])),\n",
       "                (&#x27;Estimator&#x27;,\n",
       "                 XGBClassifier(base_score=None, booster=None, callbacks=None,\n",
       "                               colsample_bylevel=No...\n",
       "                               feature_types=None, feature_weights=None,\n",
       "                               gamma=None, grow_policy=None,\n",
       "                               importance_type=None,\n",
       "                               interaction_constraints=None, learning_rate=None,\n",
       "                               max_bin=None, max_cat_threshold=None,\n",
       "                               max_cat_to_onehot=None, max_delta_step=None,\n",
       "                               max_depth=None, max_leaves=None,\n",
       "                               min_child_weight=None, missing=nan,\n",
       "                               monotone_constraints=None, multi_strategy=None,\n",
       "                               n_estimators=None, n_jobs=None,\n",
       "                               num_parallel_tree=None, ...))])</pre><b>In a Jupyter environment, please rerun this cell to show the HTML representation or trust the notebook. <br />On GitHub, the HTML representation is unable to render, please try loading this page with nbviewer.org.</b></div><div class=\"sk-container\" hidden><div class=\"sk-item sk-dashed-wrapped\"><div class=\"sk-label-container\"><div class=\"sk-label sk-toggleable\"><input class=\"sk-toggleable__control sk-hidden--visually\" id=\"sk-estimator-id-1\" type=\"checkbox\" ><label for=\"sk-estimator-id-1\" class=\"sk-toggleable__label sk-toggleable__label-arrow\">Pipeline</label><div class=\"sk-toggleable__content\"><pre>Pipeline(steps=[(&#x27;Transformer&#x27;,\n",
       "                 ColumnTransformer(transformers=[(&#x27;One Hot Encoding&#x27;,\n",
       "                                                  Pipeline(steps=[(&#x27;Encoder&#x27;,\n",
       "                                                                   OneHotEncoder(drop=&#x27;first&#x27;,\n",
       "                                                                                 handle_unknown=&#x27;ignore&#x27;))]),\n",
       "                                                  [&#x27;From Bank&#x27;, &#x27;Account&#x27;,\n",
       "                                                   &#x27;To Bank&#x27;,\n",
       "                                                   &#x27;Receiving Currency&#x27;,\n",
       "                                                   &#x27;Payment Currency&#x27;,\n",
       "                                                   &#x27;Payment Format&#x27;,\n",
       "                                                   &#x27;Day&#x27;])])),\n",
       "                (&#x27;Estimator&#x27;,\n",
       "                 XGBClassifier(base_score=None, booster=None, callbacks=None,\n",
       "                               colsample_bylevel=No...\n",
       "                               feature_types=None, feature_weights=None,\n",
       "                               gamma=None, grow_policy=None,\n",
       "                               importance_type=None,\n",
       "                               interaction_constraints=None, learning_rate=None,\n",
       "                               max_bin=None, max_cat_threshold=None,\n",
       "                               max_cat_to_onehot=None, max_delta_step=None,\n",
       "                               max_depth=None, max_leaves=None,\n",
       "                               min_child_weight=None, missing=nan,\n",
       "                               monotone_constraints=None, multi_strategy=None,\n",
       "                               n_estimators=None, n_jobs=None,\n",
       "                               num_parallel_tree=None, ...))])</pre></div></div></div><div class=\"sk-serial\"><div class=\"sk-item sk-dashed-wrapped\"><div class=\"sk-label-container\"><div class=\"sk-label sk-toggleable\"><input class=\"sk-toggleable__control sk-hidden--visually\" id=\"sk-estimator-id-2\" type=\"checkbox\" ><label for=\"sk-estimator-id-2\" class=\"sk-toggleable__label sk-toggleable__label-arrow\">Transformer: ColumnTransformer</label><div class=\"sk-toggleable__content\"><pre>ColumnTransformer(transformers=[(&#x27;One Hot Encoding&#x27;,\n",
       "                                 Pipeline(steps=[(&#x27;Encoder&#x27;,\n",
       "                                                  OneHotEncoder(drop=&#x27;first&#x27;,\n",
       "                                                                handle_unknown=&#x27;ignore&#x27;))]),\n",
       "                                 [&#x27;From Bank&#x27;, &#x27;Account&#x27;, &#x27;To Bank&#x27;,\n",
       "                                  &#x27;Receiving Currency&#x27;, &#x27;Payment Currency&#x27;,\n",
       "                                  &#x27;Payment Format&#x27;, &#x27;Day&#x27;])])</pre></div></div></div><div class=\"sk-parallel\"><div class=\"sk-parallel-item\"><div class=\"sk-item\"><div class=\"sk-label-container\"><div class=\"sk-label sk-toggleable\"><input class=\"sk-toggleable__control sk-hidden--visually\" id=\"sk-estimator-id-3\" type=\"checkbox\" ><label for=\"sk-estimator-id-3\" class=\"sk-toggleable__label sk-toggleable__label-arrow\">One Hot Encoding</label><div class=\"sk-toggleable__content\"><pre>[&#x27;From Bank&#x27;, &#x27;Account&#x27;, &#x27;To Bank&#x27;, &#x27;Receiving Currency&#x27;, &#x27;Payment Currency&#x27;, &#x27;Payment Format&#x27;, &#x27;Day&#x27;]</pre></div></div></div><div class=\"sk-serial\"><div class=\"sk-item\"><div class=\"sk-serial\"><div class=\"sk-item\"><div class=\"sk-estimator sk-toggleable\"><input class=\"sk-toggleable__control sk-hidden--visually\" id=\"sk-estimator-id-4\" type=\"checkbox\" ><label for=\"sk-estimator-id-4\" class=\"sk-toggleable__label sk-toggleable__label-arrow\">OneHotEncoder</label><div class=\"sk-toggleable__content\"><pre>OneHotEncoder(drop=&#x27;first&#x27;, handle_unknown=&#x27;ignore&#x27;)</pre></div></div></div></div></div></div></div></div></div></div><div class=\"sk-item\"><div class=\"sk-estimator sk-toggleable\"><input class=\"sk-toggleable__control sk-hidden--visually\" id=\"sk-estimator-id-5\" type=\"checkbox\" ><label for=\"sk-estimator-id-5\" class=\"sk-toggleable__label sk-toggleable__label-arrow\">XGBClassifier</label><div class=\"sk-toggleable__content\"><pre>XGBClassifier(base_score=None, booster=None, callbacks=None,\n",
       "              colsample_bylevel=None, colsample_bynode=None,\n",
       "              colsample_bytree=None, device=None, early_stopping_rounds=None,\n",
       "              enable_categorical=False, eval_metric=None, feature_types=None,\n",
       "              feature_weights=None, gamma=None, grow_policy=None,\n",
       "              importance_type=None, interaction_constraints=None,\n",
       "              learning_rate=None, max_bin=None, max_cat_threshold=None,\n",
       "              max_cat_to_onehot=None, max_delta_step=None, max_depth=None,\n",
       "              max_leaves=None, min_child_weight=None, missing=nan,\n",
       "              monotone_constraints=None, multi_strategy=None, n_estimators=None,\n",
       "              n_jobs=None, num_parallel_tree=None, ...)</pre></div></div></div></div></div></div></div>"
      ],
      "text/plain": [
       "Pipeline(steps=[('Transformer',\n",
       "                 ColumnTransformer(transformers=[('One Hot Encoding',\n",
       "                                                  Pipeline(steps=[('Encoder',\n",
       "                                                                   OneHotEncoder(drop='first',\n",
       "                                                                                 handle_unknown='ignore'))]),\n",
       "                                                  ['From Bank', 'Account',\n",
       "                                                   'To Bank',\n",
       "                                                   'Receiving Currency',\n",
       "                                                   'Payment Currency',\n",
       "                                                   'Payment Format',\n",
       "                                                   'Day'])])),\n",
       "                ('Estimator',\n",
       "                 XGBClassifier(base_score=None, booster=None, callbacks=None,\n",
       "                               colsample_bylevel=No...\n",
       "                               feature_types=None, feature_weights=None,\n",
       "                               gamma=None, grow_policy=None,\n",
       "                               importance_type=None,\n",
       "                               interaction_constraints=None, learning_rate=None,\n",
       "                               max_bin=None, max_cat_threshold=None,\n",
       "                               max_cat_to_onehot=None, max_delta_step=None,\n",
       "                               max_depth=None, max_leaves=None,\n",
       "                               min_child_weight=None, missing=nan,\n",
       "                               monotone_constraints=None, multi_strategy=None,\n",
       "                               n_estimators=None, n_jobs=None,\n",
       "                               num_parallel_tree=None, ...))])"
      ]
     },
     "execution_count": 24,
     "metadata": {},
     "output_type": "execute_result"
    }
   ],
   "source": [
    "model.fit(X_train, y_train)\n",
    "\n",
    "%%time"
   ]
  },
  {
   "cell_type": "code",
   "execution_count": 25,
   "id": "8d6d71a1",
   "metadata": {},
   "outputs": [
    {
     "data": {
      "text/plain": [
       "sklearn.compose._column_transformer.ColumnTransformer"
      ]
     },
     "execution_count": 25,
     "metadata": {},
     "output_type": "execute_result"
    }
   ],
   "source": [
    "type(model[0])"
   ]
  },
  {
   "cell_type": "code",
   "execution_count": 26,
   "id": "63484f47",
   "metadata": {},
   "outputs": [],
   "source": [
    "feature_names = model[0].get_feature_names_out()"
   ]
  },
  {
   "cell_type": "code",
   "execution_count": 27,
   "id": "ee961fe3",
   "metadata": {},
   "outputs": [
    {
     "data": {
      "text/plain": [
       "array(['One Hot Encoding__From Bank_3', 'One Hot Encoding__From Bank_4',\n",
       "       'One Hot Encoding__From Bank_5', ...,\n",
       "       'One Hot Encoding__Day_Thursday', 'One Hot Encoding__Day_Tuesday',\n",
       "       'One Hot Encoding__Day_Wednesday'], dtype=object)"
      ]
     },
     "execution_count": 27,
     "metadata": {},
     "output_type": "execute_result"
    }
   ],
   "source": [
    "feature_names"
   ]
  },
  {
   "cell_type": "code",
   "execution_count": 28,
   "id": "212287ee",
   "metadata": {},
   "outputs": [
    {
     "data": {
      "text/plain": [
       "478877"
      ]
     },
     "execution_count": 28,
     "metadata": {},
     "output_type": "execute_result"
    }
   ],
   "source": [
    "len(feature_names) # Total number of features after one-hot encoding\n",
    "\n",
    "# It's all possible combinations of the categorical variables converted to numerical values"
   ]
  },
  {
   "cell_type": "code",
   "execution_count": null,
   "id": "687d6206",
   "metadata": {},
   "outputs": [],
   "source": []
  },
  {
   "cell_type": "markdown",
   "id": "4bb11237",
   "metadata": {},
   "source": [
    "# Feature importance\n",
    "\n",
    "After fitting the model we can estimate which features was the most and the less important to find the class of transaction during the fitting"
   ]
  },
  {
   "cell_type": "code",
   "execution_count": 29,
   "id": "790f161f",
   "metadata": {},
   "outputs": [
    {
     "data": {
      "text/html": [
       "<div>\n",
       "<style scoped>\n",
       "    .dataframe tbody tr th:only-of-type {\n",
       "        vertical-align: middle;\n",
       "    }\n",
       "\n",
       "    .dataframe tbody tr th {\n",
       "        vertical-align: top;\n",
       "    }\n",
       "\n",
       "    .dataframe thead th {\n",
       "        text-align: right;\n",
       "    }\n",
       "</style>\n",
       "<table border=\"1\" class=\"dataframe\">\n",
       "  <thead>\n",
       "    <tr style=\"text-align: right;\">\n",
       "      <th></th>\n",
       "      <th>Feature</th>\n",
       "      <th>Importance</th>\n",
       "    </tr>\n",
       "  </thead>\n",
       "  <tbody>\n",
       "    <tr>\n",
       "      <th>478869</th>\n",
       "      <td>One Hot Encoding__Payment Format_Reinvestment</td>\n",
       "      <td>0.101950</td>\n",
       "    </tr>\n",
       "    <tr>\n",
       "      <th>478870</th>\n",
       "      <td>One Hot Encoding__Payment Format_Wire</td>\n",
       "      <td>0.052319</td>\n",
       "    </tr>\n",
       "    <tr>\n",
       "      <th>478868</th>\n",
       "      <td>One Hot Encoding__Payment Format_Credit Card</td>\n",
       "      <td>0.033830</td>\n",
       "    </tr>\n",
       "    <tr>\n",
       "      <th>478837</th>\n",
       "      <td>One Hot Encoding__Receiving Currency_Bitcoin</td>\n",
       "      <td>0.032410</td>\n",
       "    </tr>\n",
       "    <tr>\n",
       "      <th>478866</th>\n",
       "      <td>One Hot Encoding__Payment Format_Cash</td>\n",
       "      <td>0.023262</td>\n",
       "    </tr>\n",
       "    <tr>\n",
       "      <th>478867</th>\n",
       "      <td>One Hot Encoding__Payment Format_Cheque</td>\n",
       "      <td>0.016060</td>\n",
       "    </tr>\n",
       "    <tr>\n",
       "      <th>23</th>\n",
       "      <td>One Hot Encoding__From Bank_70</td>\n",
       "      <td>0.011363</td>\n",
       "    </tr>\n",
       "    <tr>\n",
       "      <th>478858</th>\n",
       "      <td>One Hot Encoding__Payment Currency_Saudi Riyal</td>\n",
       "      <td>0.010640</td>\n",
       "    </tr>\n",
       "    <tr>\n",
       "      <th>478862</th>\n",
       "      <td>One Hot Encoding__Payment Currency_US Dollar</td>\n",
       "      <td>0.009583</td>\n",
       "    </tr>\n",
       "    <tr>\n",
       "      <th>478859</th>\n",
       "      <td>One Hot Encoding__Payment Currency_Shekel</td>\n",
       "      <td>0.007091</td>\n",
       "    </tr>\n",
       "    <tr>\n",
       "      <th>478840</th>\n",
       "      <td>One Hot Encoding__Receiving Currency_Euro</td>\n",
       "      <td>0.006818</td>\n",
       "    </tr>\n",
       "    <tr>\n",
       "      <th>52</th>\n",
       "      <td>One Hot Encoding__From Bank_1024</td>\n",
       "      <td>0.004621</td>\n",
       "    </tr>\n",
       "    <tr>\n",
       "      <th>160330</th>\n",
       "      <td>One Hot Encoding__Account_805E23B60</td>\n",
       "      <td>0.004149</td>\n",
       "    </tr>\n",
       "    <tr>\n",
       "      <th>443879</th>\n",
       "      <td>One Hot Encoding__Account_813814C00</td>\n",
       "      <td>0.004039</td>\n",
       "    </tr>\n",
       "    <tr>\n",
       "      <th>397985</th>\n",
       "      <td>One Hot Encoding__Account_8112BCCF0</td>\n",
       "      <td>0.004014</td>\n",
       "    </tr>\n",
       "    <tr>\n",
       "      <th>281183</th>\n",
       "      <td>One Hot Encoding__Account_80B8EAF40</td>\n",
       "      <td>0.003905</td>\n",
       "    </tr>\n",
       "    <tr>\n",
       "      <th>458920</th>\n",
       "      <td>One Hot Encoding__Account_814496A10</td>\n",
       "      <td>0.003890</td>\n",
       "    </tr>\n",
       "    <tr>\n",
       "      <th>275099</th>\n",
       "      <td>One Hot Encoding__Account_80B445750</td>\n",
       "      <td>0.003870</td>\n",
       "    </tr>\n",
       "    <tr>\n",
       "      <th>46633</th>\n",
       "      <td>One Hot Encoding__Account_800C533E0</td>\n",
       "      <td>0.003823</td>\n",
       "    </tr>\n",
       "    <tr>\n",
       "      <th>451603</th>\n",
       "      <td>One Hot Encoding__Account_813E5AF41</td>\n",
       "      <td>0.003724</td>\n",
       "    </tr>\n",
       "  </tbody>\n",
       "</table>\n",
       "</div>"
      ],
      "text/plain": [
       "                                               Feature  Importance\n",
       "478869   One Hot Encoding__Payment Format_Reinvestment    0.101950\n",
       "478870           One Hot Encoding__Payment Format_Wire    0.052319\n",
       "478868    One Hot Encoding__Payment Format_Credit Card    0.033830\n",
       "478837    One Hot Encoding__Receiving Currency_Bitcoin    0.032410\n",
       "478866           One Hot Encoding__Payment Format_Cash    0.023262\n",
       "478867         One Hot Encoding__Payment Format_Cheque    0.016060\n",
       "23                      One Hot Encoding__From Bank_70    0.011363\n",
       "478858  One Hot Encoding__Payment Currency_Saudi Riyal    0.010640\n",
       "478862    One Hot Encoding__Payment Currency_US Dollar    0.009583\n",
       "478859       One Hot Encoding__Payment Currency_Shekel    0.007091\n",
       "478840       One Hot Encoding__Receiving Currency_Euro    0.006818\n",
       "52                    One Hot Encoding__From Bank_1024    0.004621\n",
       "160330             One Hot Encoding__Account_805E23B60    0.004149\n",
       "443879             One Hot Encoding__Account_813814C00    0.004039\n",
       "397985             One Hot Encoding__Account_8112BCCF0    0.004014\n",
       "281183             One Hot Encoding__Account_80B8EAF40    0.003905\n",
       "458920             One Hot Encoding__Account_814496A10    0.003890\n",
       "275099             One Hot Encoding__Account_80B445750    0.003870\n",
       "46633              One Hot Encoding__Account_800C533E0    0.003823\n",
       "451603             One Hot Encoding__Account_813E5AF41    0.003724"
      ]
     },
     "execution_count": 29,
     "metadata": {},
     "output_type": "execute_result"
    }
   ],
   "source": [
    "# feature_names = transformer.get_feature_names_out()\n",
    "feature_names = model[0].get_feature_names_out()\n",
    "importances = model[1].feature_importances_\n",
    "\n",
    "feat_imp_df = pd.DataFrame({\n",
    "    'Feature': feature_names,\n",
    "    'Importance': importances\n",
    "}).sort_values(by='Importance', ascending=False)\n",
    "\n",
    "feat_imp_df.head(20)  # The most important features\n",
    "\n",
    "# As expected, \"From Bank 70\" is in the top 10 features, but it is not the most important one.\n",
    "# The most important feature in general is \"Payment Format\": it's first 5 rows"
   ]
  },
  {
   "cell_type": "code",
   "execution_count": 30,
   "id": "d17c0a88",
   "metadata": {},
   "outputs": [
    {
     "data": {
      "text/plain": [
       "1.0000001"
      ]
     },
     "execution_count": 30,
     "metadata": {},
     "output_type": "execute_result"
    }
   ],
   "source": [
    "feat_imp_df.Importance.sum() # total sum of importances == 1.0 \n"
   ]
  },
  {
   "cell_type": "code",
   "execution_count": 31,
   "id": "ca0dbccc",
   "metadata": {},
   "outputs": [
    {
     "data": {
      "text/html": [
       "<div>\n",
       "<style scoped>\n",
       "    .dataframe tbody tr th:only-of-type {\n",
       "        vertical-align: middle;\n",
       "    }\n",
       "\n",
       "    .dataframe tbody tr th {\n",
       "        vertical-align: top;\n",
       "    }\n",
       "\n",
       "    .dataframe thead th {\n",
       "        text-align: right;\n",
       "    }\n",
       "</style>\n",
       "<table border=\"1\" class=\"dataframe\">\n",
       "  <thead>\n",
       "    <tr style=\"text-align: right;\">\n",
       "      <th></th>\n",
       "      <th>Feature</th>\n",
       "      <th>Importance</th>\n",
       "    </tr>\n",
       "  </thead>\n",
       "  <tbody>\n",
       "    <tr>\n",
       "      <th>478869</th>\n",
       "      <td>One Hot Encoding__Payment Format_Reinvestment</td>\n",
       "      <td>0.101950</td>\n",
       "    </tr>\n",
       "    <tr>\n",
       "      <th>478870</th>\n",
       "      <td>One Hot Encoding__Payment Format_Wire</td>\n",
       "      <td>0.052319</td>\n",
       "    </tr>\n",
       "  </tbody>\n",
       "</table>\n",
       "</div>"
      ],
      "text/plain": [
       "                                              Feature  Importance\n",
       "478869  One Hot Encoding__Payment Format_Reinvestment    0.101950\n",
       "478870          One Hot Encoding__Payment Format_Wire    0.052319"
      ]
     },
     "execution_count": 31,
     "metadata": {},
     "output_type": "execute_result"
    }
   ],
   "source": [
    "feat_imp_df.head(2)"
   ]
  },
  {
   "cell_type": "code",
   "execution_count": 32,
   "id": "3ea0b96e",
   "metadata": {},
   "outputs": [
    {
     "data": {
      "text/plain": [
       "0.43548867"
      ]
     },
     "execution_count": 32,
     "metadata": {},
     "output_type": "execute_result"
    }
   ],
   "source": [
    "feat_imp_df[\"Importance\"].head(50).sum()  \n",
    "\n",
    "# The top-10 most important features gives us 42% of the whole importance\n",
    "# So, given firt 10 features, we can be 42% sure that the model will be able to predict fraudlent transaction"
   ]
  },
  {
   "cell_type": "code",
   "execution_count": 33,
   "id": "f7b8b9f6",
   "metadata": {},
   "outputs": [
    {
     "data": {
      "text/html": [
       "<div>\n",
       "<style scoped>\n",
       "    .dataframe tbody tr th:only-of-type {\n",
       "        vertical-align: middle;\n",
       "    }\n",
       "\n",
       "    .dataframe tbody tr th {\n",
       "        vertical-align: top;\n",
       "    }\n",
       "\n",
       "    .dataframe thead th {\n",
       "        text-align: right;\n",
       "    }\n",
       "</style>\n",
       "<table border=\"1\" class=\"dataframe\">\n",
       "  <thead>\n",
       "    <tr style=\"text-align: right;\">\n",
       "      <th></th>\n",
       "      <th>Feature</th>\n",
       "      <th>Importance</th>\n",
       "    </tr>\n",
       "  </thead>\n",
       "  <tbody>\n",
       "    <tr>\n",
       "      <th>159980</th>\n",
       "      <td>One Hot Encoding__Account_805DDD7E0</td>\n",
       "      <td>0.0</td>\n",
       "    </tr>\n",
       "    <tr>\n",
       "      <th>159979</th>\n",
       "      <td>One Hot Encoding__Account_805DDD6A0</td>\n",
       "      <td>0.0</td>\n",
       "    </tr>\n",
       "    <tr>\n",
       "      <th>159978</th>\n",
       "      <td>One Hot Encoding__Account_805DDD220</td>\n",
       "      <td>0.0</td>\n",
       "    </tr>\n",
       "    <tr>\n",
       "      <th>159977</th>\n",
       "      <td>One Hot Encoding__Account_805DDCFD0</td>\n",
       "      <td>0.0</td>\n",
       "    </tr>\n",
       "    <tr>\n",
       "      <th>159976</th>\n",
       "      <td>One Hot Encoding__Account_805DDCD10</td>\n",
       "      <td>0.0</td>\n",
       "    </tr>\n",
       "    <tr>\n",
       "      <th>159975</th>\n",
       "      <td>One Hot Encoding__Account_805DDCBD0</td>\n",
       "      <td>0.0</td>\n",
       "    </tr>\n",
       "    <tr>\n",
       "      <th>159974</th>\n",
       "      <td>One Hot Encoding__Account_805DDC9B0</td>\n",
       "      <td>0.0</td>\n",
       "    </tr>\n",
       "    <tr>\n",
       "      <th>159973</th>\n",
       "      <td>One Hot Encoding__Account_805DDC8C0</td>\n",
       "      <td>0.0</td>\n",
       "    </tr>\n",
       "    <tr>\n",
       "      <th>159972</th>\n",
       "      <td>One Hot Encoding__Account_805DDC870</td>\n",
       "      <td>0.0</td>\n",
       "    </tr>\n",
       "    <tr>\n",
       "      <th>159971</th>\n",
       "      <td>One Hot Encoding__Account_805DDC0B0</td>\n",
       "      <td>0.0</td>\n",
       "    </tr>\n",
       "    <tr>\n",
       "      <th>159970</th>\n",
       "      <td>One Hot Encoding__Account_805DDBEC0</td>\n",
       "      <td>0.0</td>\n",
       "    </tr>\n",
       "    <tr>\n",
       "      <th>159969</th>\n",
       "      <td>One Hot Encoding__Account_805DDBE70</td>\n",
       "      <td>0.0</td>\n",
       "    </tr>\n",
       "    <tr>\n",
       "      <th>159968</th>\n",
       "      <td>One Hot Encoding__Account_805DDBE20</td>\n",
       "      <td>0.0</td>\n",
       "    </tr>\n",
       "    <tr>\n",
       "      <th>159967</th>\n",
       "      <td>One Hot Encoding__Account_805DDBCE0</td>\n",
       "      <td>0.0</td>\n",
       "    </tr>\n",
       "    <tr>\n",
       "      <th>159966</th>\n",
       "      <td>One Hot Encoding__Account_805DDBC40</td>\n",
       "      <td>0.0</td>\n",
       "    </tr>\n",
       "    <tr>\n",
       "      <th>159965</th>\n",
       "      <td>One Hot Encoding__Account_805DDBBA0</td>\n",
       "      <td>0.0</td>\n",
       "    </tr>\n",
       "    <tr>\n",
       "      <th>159964</th>\n",
       "      <td>One Hot Encoding__Account_805DDB980</td>\n",
       "      <td>0.0</td>\n",
       "    </tr>\n",
       "    <tr>\n",
       "      <th>159963</th>\n",
       "      <td>One Hot Encoding__Account_805DDB590</td>\n",
       "      <td>0.0</td>\n",
       "    </tr>\n",
       "    <tr>\n",
       "      <th>159962</th>\n",
       "      <td>One Hot Encoding__Account_805DDB150</td>\n",
       "      <td>0.0</td>\n",
       "    </tr>\n",
       "    <tr>\n",
       "      <th>239438</th>\n",
       "      <td>One Hot Encoding__Account_80990BE20</td>\n",
       "      <td>0.0</td>\n",
       "    </tr>\n",
       "  </tbody>\n",
       "</table>\n",
       "</div>"
      ],
      "text/plain": [
       "                                    Feature  Importance\n",
       "159980  One Hot Encoding__Account_805DDD7E0         0.0\n",
       "159979  One Hot Encoding__Account_805DDD6A0         0.0\n",
       "159978  One Hot Encoding__Account_805DDD220         0.0\n",
       "159977  One Hot Encoding__Account_805DDCFD0         0.0\n",
       "159976  One Hot Encoding__Account_805DDCD10         0.0\n",
       "159975  One Hot Encoding__Account_805DDCBD0         0.0\n",
       "159974  One Hot Encoding__Account_805DDC9B0         0.0\n",
       "159973  One Hot Encoding__Account_805DDC8C0         0.0\n",
       "159972  One Hot Encoding__Account_805DDC870         0.0\n",
       "159971  One Hot Encoding__Account_805DDC0B0         0.0\n",
       "159970  One Hot Encoding__Account_805DDBEC0         0.0\n",
       "159969  One Hot Encoding__Account_805DDBE70         0.0\n",
       "159968  One Hot Encoding__Account_805DDBE20         0.0\n",
       "159967  One Hot Encoding__Account_805DDBCE0         0.0\n",
       "159966  One Hot Encoding__Account_805DDBC40         0.0\n",
       "159965  One Hot Encoding__Account_805DDBBA0         0.0\n",
       "159964  One Hot Encoding__Account_805DDB980         0.0\n",
       "159963  One Hot Encoding__Account_805DDB590         0.0\n",
       "159962  One Hot Encoding__Account_805DDB150         0.0\n",
       "239438  One Hot Encoding__Account_80990BE20         0.0"
      ]
     },
     "execution_count": 33,
     "metadata": {},
     "output_type": "execute_result"
    }
   ],
   "source": [
    "feat_imp_df.tail(20) # The less important features\n",
    "\n",
    "# In the end of the list we have Feature named after some Accounts numbers. \n",
    "# So in general it could be interpreted as list of trusted accounts who has never been seen laundering before"
   ]
  },
  {
   "cell_type": "markdown",
   "id": "cfd4e773",
   "metadata": {
    "papermill": {
     "duration": 0.013455,
     "end_time": "2024-11-08T14:12:53.077665",
     "exception": false,
     "start_time": "2024-11-08T14:12:53.064210",
     "status": "completed"
    },
    "tags": []
   },
   "source": [
    "# Inference"
   ]
  },
  {
   "cell_type": "code",
   "execution_count": 34,
   "id": "2ed94421",
   "metadata": {
    "execution": {
     "iopub.execute_input": "2024-11-08T14:12:52.992620Z",
     "iopub.status.busy": "2024-11-08T14:12:52.992187Z",
     "iopub.status.idle": "2024-11-08T14:12:53.042147Z",
     "shell.execute_reply": "2024-11-08T14:12:53.041251Z"
    },
    "papermill": {
     "duration": 0.072131,
     "end_time": "2024-11-08T14:12:53.048971",
     "exception": false,
     "start_time": "2024-11-08T14:12:52.976840",
     "status": "completed"
    },
    "tags": []
   },
   "outputs": [
    {
     "name": "stderr",
     "output_type": "stream",
     "text": [
      "c:\\Users\\HAL9003\\anaconda3\\Lib\\site-packages\\sklearn\\preprocessing\\_encoders.py:202: UserWarning: Found unknown categories in columns [0, 1, 2] during transform. These unknown categories will be encoded as all zeros\n",
      "  warnings.warn(\n"
     ]
    },
    {
     "name": "stdout",
     "output_type": "stream",
     "text": [
      "CPU times: total: 0 ns\n",
      "Wall time: 0 ns\n"
     ]
    }
   ],
   "source": [
    "y_pred = model.predict(X_test)\n",
    "\n",
    "%time"
   ]
  },
  {
   "cell_type": "code",
   "execution_count": 35,
   "id": "d39797c3",
   "metadata": {},
   "outputs": [
    {
     "data": {
      "text/plain": [
       "array([0, 0, 0, ..., 0, 0, 0])"
      ]
     },
     "execution_count": 35,
     "metadata": {},
     "output_type": "execute_result"
    }
   ],
   "source": [
    "y_pred"
   ]
  },
  {
   "cell_type": "code",
   "execution_count": 36,
   "id": "e61d9e7a",
   "metadata": {},
   "outputs": [
    {
     "data": {
      "text/plain": [
       "0.36861574771279965"
      ]
     },
     "execution_count": 36,
     "metadata": {},
     "output_type": "execute_result"
    }
   ],
   "source": [
    "y_pred.mean()"
   ]
  },
  {
   "cell_type": "code",
   "execution_count": 37,
   "id": "56eb2936",
   "metadata": {},
   "outputs": [
    {
     "data": {
      "text/plain": [
       "Is Laundering\n",
       "0    1521489\n",
       "1     761433\n",
       "Name: count, dtype: int64"
      ]
     },
     "execution_count": 37,
     "metadata": {},
     "output_type": "execute_result"
    }
   ],
   "source": [
    "y_test.value_counts()\n",
    "# Feature Scaling"
   ]
  },
  {
   "cell_type": "code",
   "execution_count": 38,
   "id": "4645e093",
   "metadata": {},
   "outputs": [
    {
     "data": {
      "image/png": "[encoded data removed]",
      "text/plain": [
       "<Figure size 600x500 with 2 Axes>"
      ]
     },
     "metadata": {},
     "output_type": "display_data"
    },
    {
     "data": {
      "image/png": "[encoded data removed]",
      "text/plain": [
       "<Figure size 600x500 with 2 Axes>"
      ]
     },
     "metadata": {},
     "output_type": "display_data"
    }
   ],
   "source": [
    "def draw_confusion_matrix(cm):\n",
    "    fig, ax = plt.subplots(figsize=(6, 5))\n",
    "    cax = ax.matshow(cm, cmap='Blues')\n",
    "\n",
    "    for i in range(cm.shape[0]):\n",
    "        for j in range(cm.shape[1]):\n",
    "            ax.text(j, i, str(cm[i, j]),\n",
    "                    va='center', ha='center',\n",
    "                    color='black' if cm[i, j] < cm.max() * 0.5 else 'white',\n",
    "                    fontsize=12)\n",
    "\n",
    "    ax.set_xlabel('Predicted Values', fontsize=12)\n",
    "    ax.set_ylabel('Actual Values', fontsize=12)\n",
    "    ax.set_title('Confusion Matrix', fontsize=14, pad=20)\n",
    "    ax.set_xticks([0, 1])\n",
    "    ax.set_yticks([0, 1])\n",
    "    fig.colorbar(cax)\n",
    "    plt.tight_layout()\n",
    "    plt.show()\n",
    "\n",
    "# Draw the confusion matrix using the function\n",
    "draw_confusion_matrix(cm = confusion_matrix(y_test, y_pred, normalize=None))\n",
    "\n",
    "# Normalized confusion matrix\n",
    "draw_confusion_matrix(cm = confusion_matrix(y_test, y_pred, normalize='pred').round(3))"
   ]
  },
  {
   "cell_type": "code",
   "execution_count": 39,
   "id": "d5b4de6c",
   "metadata": {
    "execution": {
     "iopub.execute_input": "2024-11-08T14:12:53.527634Z",
     "iopub.status.busy": "2024-11-08T14:12:53.527148Z",
     "iopub.status.idle": "2024-11-08T14:12:53.546999Z",
     "shell.execute_reply": "2024-11-08T14:12:53.545778Z"
    },
    "papermill": {
     "duration": 0.039156,
     "end_time": "2024-11-08T14:12:53.549850",
     "exception": false,
     "start_time": "2024-11-08T14:12:53.510694",
     "status": "completed"
    },
    "tags": []
   },
   "outputs": [
    {
     "name": "stdout",
     "output_type": "stream",
     "text": [
      "\n",
      "Classification Report:\n",
      "              precision    recall  f1-score   support\n",
      "\n",
      "           0       0.95      0.90      0.92   1521489\n",
      "           1       0.82      0.90      0.86    761433\n",
      "\n",
      "    accuracy                           0.90   2282922\n",
      "   macro avg       0.88      0.90      0.89   2282922\n",
      "weighted avg       0.91      0.90      0.90   2282922\n",
      "\n"
     ]
    }
   ],
   "source": [
    "from sklearn.metrics import classification_report\n",
    "print(\"\\nClassification Report:\")\n",
    "print(classification_report(y_test, y_pred))"
   ]
  },
  {
   "cell_type": "code",
   "execution_count": 40,
   "id": "fccfeb92",
   "metadata": {
    "execution": {
     "iopub.execute_input": "2024-11-08T14:12:53.587005Z",
     "iopub.status.busy": "2024-11-08T14:12:53.585364Z",
     "iopub.status.idle": "2024-11-08T14:12:53.609009Z",
     "shell.execute_reply": "2024-11-08T14:12:53.607159Z"
    },
    "papermill": {
     "duration": 0.049213,
     "end_time": "2024-11-08T14:12:53.613978",
     "exception": false,
     "start_time": "2024-11-08T14:12:53.564765",
     "status": "completed"
    },
    "tags": []
   },
   "outputs": [
    {
     "name": "stdout",
     "output_type": "stream",
     "text": [
      "Accuracy Score: 90.0813956850037\n",
      "Precision Score: 81.78762027329086\n",
      "Recall Score: 90.390093415967\n",
      "F1 Score: 85.87395521019319\n"
     ]
    }
   ],
   "source": [
    "from sklearn.metrics import accuracy_score\n",
    "from sklearn.metrics import precision_score\n",
    "from sklearn.metrics import recall_score\n",
    "from sklearn.metrics import f1_score\n",
    "\n",
    "print(\"Accuracy Score:\", accuracy_score(y_test, y_pred)*100)\n",
    "print(\"Precision Score:\",precision_score(y_test, y_pred)*100)\n",
    "print(\"Recall Score:\",recall_score(y_test, y_pred)*100)\n",
    "print(\"F1 Score:\", f1_score(y_test, y_pred)*100)\n"
   ]
  },
  {
   "cell_type": "code",
   "execution_count": null,
   "id": "93d07bc1",
   "metadata": {},
   "outputs": [],
   "source": []
  },
  {
   "cell_type": "markdown",
   "id": "17f768c6",
   "metadata": {},
   "source": [
    "# Tests with non-oversampled example "
   ]
  },
  {
   "cell_type": "code",
   "execution_count": 41,
   "id": "44871aa8",
   "metadata": {},
   "outputs": [],
   "source": [
    "# Get the original data without the oversampling\n",
    "\n",
    "\n",
    "X_orig = df.drop(['Is Laundering'],axis = 1)\n",
    "y_orig = df['Is Laundering']"
   ]
  },
  {
   "cell_type": "code",
   "execution_count": 42,
   "id": "8eabb077",
   "metadata": {},
   "outputs": [
    {
     "name": "stderr",
     "output_type": "stream",
     "text": [
      "c:\\Users\\HAL9003\\anaconda3\\Lib\\site-packages\\sklearn\\preprocessing\\_encoders.py:202: UserWarning: Found unknown categories in columns [0, 1, 2] during transform. These unknown categories will be encoded as all zeros\n",
      "  warnings.warn(\n"
     ]
    }
   ],
   "source": [
    "y_orig_predict = model.predict(X_orig) \n",
    "\n",
    "# ecoding the original data using the same transformer in model[0]\n",
    "# then predict using previously trained model\n",
    "\n",
    "# Get some warnings about the data here because we have not used all the features in the model during the training"
   ]
  },
  {
   "cell_type": "code",
   "execution_count": 43,
   "id": "4adad8aa",
   "metadata": {},
   "outputs": [
    {
     "name": "stdout",
     "output_type": "stream",
     "text": [
      "Accuracy Score: 89.98518412330338\n",
      "Precision Score: 0.912308757422991\n",
      "Recall Score: 90.36121305775545\n",
      "F1 Score: 1.806379864926961\n"
     ]
    }
   ],
   "source": [
    "print(\"Accuracy Score:\", accuracy_score(y_orig, y_orig_predict)*100)\n",
    "print(\"Precision Score:\",precision_score(y_orig, y_orig_predict)*100)\n",
    "print(\"Recall Score:\",recall_score(y_orig, y_orig_predict)*100)\n",
    "print(\"F1 Score:\", f1_score(y_orig, y_orig_predict)*100)\n",
    "\n",
    "\n",
    "# Our precision here drops to 60% because amout of fraudlent transactions is much lower \n",
    "#       than in the training set,\n",
    "#       so in 'real life' sample the model tend to show 'false positive' much more often.\n",
    "\n",
    "# But it's still acceptable for the model to be used in production, because usually \n",
    "#       we prefer to stop potentially fraudlent transaction\n",
    "#       and then check it manually, rather than let it go through and then find out \n",
    "#       that it was a fraudlent one."
   ]
  },
  {
   "cell_type": "code",
   "execution_count": 44,
   "id": "51eea385",
   "metadata": {},
   "outputs": [
    {
     "data": {
      "text/plain": [
       "0.10097106611299449"
      ]
     },
     "execution_count": 44,
     "metadata": {},
     "output_type": "execute_result"
    }
   ],
   "source": [
    "y_orig_predict.mean()"
   ]
  },
  {
   "cell_type": "code",
   "execution_count": 45,
   "id": "1e4d75ba",
   "metadata": {},
   "outputs": [
    {
     "data": {
      "text/plain": [
       "0.0010194284111961084"
      ]
     },
     "execution_count": 45,
     "metadata": {},
     "output_type": "execute_result"
    }
   ],
   "source": [
    "y_orig.mean() # below 1% of fraudlent transactions "
   ]
  },
  {
   "cell_type": "code",
   "execution_count": 46,
   "id": "1b6efdbc",
   "metadata": {},
   "outputs": [
    {
     "data": {
      "text/plain": [
       "5177"
      ]
     },
     "execution_count": 46,
     "metadata": {},
     "output_type": "execute_result"
    }
   ],
   "source": [
    "y_orig.sum() \n",
    "\n",
    "# Just to remember -- in the original data we have 5177 of fraudlent transactions"
   ]
  },
  {
   "cell_type": "code",
   "execution_count": 47,
   "id": "cf89025f",
   "metadata": {},
   "outputs": [
    {
     "data": {
      "text/plain": [
       "512765"
      ]
     },
     "execution_count": 47,
     "metadata": {},
     "output_type": "execute_result"
    }
   ],
   "source": [
    "# Being implemented in production, the model could be a little bit too agressive selecting fraudlent transactions\n",
    "#   we should be careful with the thresholds and model parameters to avoid too many false positives\n",
    "#   to prevent too many customers from being blocked and too many transactions \n",
    "#   from being stopped for manual check, for example\n",
    "\n",
    "y_orig_predict.sum() # And we have much more predicted fraudlent transactions "
   ]
  },
  {
   "cell_type": "code",
   "execution_count": 48,
   "id": "2349db59",
   "metadata": {},
   "outputs": [
    {
     "data": {
      "image/png": "[encoded data removed]",
      "text/plain": [
       "<Figure size 600x500 with 2 Axes>"
      ]
     },
     "metadata": {},
     "output_type": "display_data"
    }
   ],
   "source": [
    "# Normalized confusion matrix for the original data\n",
    "draw_confusion_matrix(cm = confusion_matrix(y_orig, y_orig_predict, normalize=None).round(3))\n"
   ]
  },
  {
   "cell_type": "code",
   "execution_count": 49,
   "id": "9d89b1ee",
   "metadata": {},
   "outputs": [
    {
     "data": {
      "image/png": "[encoded data removed]",
      "text/plain": [
       "<Figure size 600x500 with 2 Axes>"
      ]
     },
     "metadata": {},
     "output_type": "display_data"
    }
   ],
   "source": [
    "# Normalized confusion matrix for the original data\n",
    "draw_confusion_matrix(cm = confusion_matrix(y_orig, y_orig_predict, normalize='pred').round(3))\n",
    "\n",
    "# False positive is huge, because we have much more predicted fraudlent transactions than in the original data\n",
    "# So we have just created too biased model, which says 'it's fraudlent' probably too often"
   ]
  },
  {
   "cell_type": "code",
   "execution_count": null,
   "id": "ff491b77",
   "metadata": {},
   "outputs": [],
   "source": []
  }
 ],
 "metadata": {
  "kaggle": {
   "accelerator": "none",
   "dataSources": [
    {
     "datasetId": 2948142,
     "sourceId": 5080714,
     "sourceType": "datasetVersion"
    }
   ],
   "dockerImageVersionId": 30786,
   "isGpuEnabled": false,
   "isInternetEnabled": true,
   "language": "python",
   "sourceType": "notebook"
  },
  "kernelspec": {
   "display_name": "base",
   "language": "python",
   "name": "python3"
  },
  "language_info": {
   "codemirror_mode": {
    "name": "ipython",
    "version": 3
   },
   "file_extension": ".py",
   "mimetype": "text/x-python",
   "name": "python",
   "nbconvert_exporter": "python",
   "pygments_lexer": "ipython3",
   "version": "3.11.7"
  },
  "papermill": {
   "default_parameters": {},
   "duration": 50.281464,
   "end_time": "2024-11-08T14:12:55.263358",
   "environment_variables": {},
   "exception": null,
   "input_path": "__notebook__.ipynb",
   "output_path": "__notebook__.ipynb",
   "parameters": {},
   "start_time": "2024-11-08T14:12:04.981894",
   "version": "2.6.0"
  }
 },
 "nbformat": 4,
 "nbformat_minor": 5
}
